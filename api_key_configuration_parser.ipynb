{
  "nbformat": 4,
  "nbformat_minor": 0,
  "metadata": {
    "colab": {
      "provenance": [],
      "gpuType": "T4"
    },
    "kernelspec": {
      "name": "python3",
      "display_name": "Python 3"
    },
    "language_info": {
      "name": "python"
    },
    "accelerator": "GPU"
  },
  "cells": [
    {
      "cell_type": "markdown",
      "source": [
        "This is grammar is tailored to configuring API keys\n",
        "\n",
        "program         -> service*\n",
        "service         -> SERVICE_NAME '{' api_key_statement* '}'\n",
        "api_key_statement -> 'api_key' '=' STRING ';'\n",
        "\n",
        "\n",
        "an example of API Key configuration\n",
        "\n",
        "google_maps {\n",
        "    api_key = \"YOUR_GOOGLE_MAPS_API_KEY\";\n",
        "}\n",
        "\n",
        "weather_service {\n",
        "    api_key = \"YOUR_WEATHER_SERVICE_API_KEY\";\n",
        "}\n",
        "\n"
      ],
      "metadata": {
        "id": "fNZdPo-DIpd9"
      }
    },
    {
      "cell_type": "code",
      "source": [
        "import re\n",
        "import sys"
      ],
      "metadata": {
        "id": "PM1n6LL5KE2R"
      },
      "execution_count": null,
      "outputs": []
    },
    {
      "cell_type": "code",
      "source": [
        "class Token:\n",
        "    def __init__(self, type, value, position):\n",
        "        self.type = type\n",
        "        self.value = value\n",
        "        self.position = position\n",
        "\n",
        "class ASTNode:\n",
        "    pass"
      ],
      "metadata": {
        "id": "VIg6FoSLT26o"
      },
      "execution_count": null,
      "outputs": []
    },
    {
      "cell_type": "code",
      "source": [
        "class ServiceNode(ASTNode):\n",
        "    def __init__(self, service_name, api_keys, position):\n",
        "        self.service_name = service_name\n",
        "        self.api_keys = api_keys\n",
        "        self.position = position\n",
        "\n",
        "class ApiKeyNode(ASTNode):\n",
        "    def __init__(self, key, value, position):\n",
        "        self.key = key\n",
        "        self.value = value\n",
        "        self.position = position"
      ],
      "metadata": {
        "id": "094ZxfpwT-ps"
      },
      "execution_count": null,
      "outputs": []
    },
    {
      "cell_type": "code",
      "source": [
        "class ApiKeyNode(ASTNode):\n",
        "    def __init__(self, key, value, position):\n",
        "        self.key = key\n",
        "        self.value = value\n",
        "        self.position = position"
      ],
      "metadata": {
        "id": "3p8EkwJZUBzE"
      },
      "execution_count": null,
      "outputs": []
    },
    {
      "cell_type": "code",
      "source": [
        "class Parser:\n",
        "    def __init__(self, tokens):\n",
        "        self.tokens = tokens\n",
        "        self.current_token = None\n",
        "        self.index = 0\n",
        "\n",
        "    def parse(self):\n",
        "        services = []\n",
        "        while self.index < len(self.tokens):\n",
        "            service = self.parse_service()\n",
        "            if service:\n",
        "                services.append(service)\n",
        "        return services\n",
        "\n",
        "    def parse_service(self):\n",
        "        position = self.current_token.position if self.current_token else None\n",
        "        if self.match('SERVICE_NAME') and self.match('{'):\n",
        "            service_name = self.previous().value\n",
        "            api_key_statements = self.parse_api_key_statements()\n",
        "            if self.match('}'):\n",
        "                return ServiceNode(service_name, api_key_statements, position)\n",
        "        return None\n",
        "\n",
        "    def parse_api_key_statements(self):\n",
        "        api_key_statements = []\n",
        "        while not self.check('}'):\n",
        "            if self.match('API_KEY'):\n",
        "                position = self.current_token.position if self.current_token else None\n",
        "                if self.match('='):\n",
        "                    if self.match('STRING') and self.match(';'):\n",
        "                        api_key_statements.append(ApiKeyNode(\"api_key\", self.previous().value, position))\n",
        "                    else:\n",
        "                        self.error(\"Expected API key string followed by ';'\", position)\n",
        "                else:\n",
        "                    self.error(\"Expected '=' after 'api_key'\", position)\n",
        "            else:\n",
        "                self.error(\"Expected 'api_key' statement\", position)\n",
        "        return api_key_statements\n",
        "\n",
        "    def match(self, expected_type):\n",
        "        if self.check(expected_type):\n",
        "            self.advance()\n",
        "            return True\n",
        "        return False\n",
        "\n",
        "    def check(self, expected_type):\n",
        "        return self.current_token.type == expected_type if self.current_token else False\n",
        "\n",
        "    def advance(self):\n",
        "        if self.index < len(self.tokens):\n",
        "            self.current_token = self.tokens[self.index]\n",
        "            self.index += 1\n",
        "\n",
        "    def previous(self):\n",
        "        return self.tokens[self.index - 1] if self.index > 0 else None\n",
        "\n",
        "    def error(self, message, position=None):\n",
        "        if position:\n",
        "            raise Exception(f\"Parse Error at position {position}: {message}\")\n",
        "        else:\n",
        "            raise Exception(f\"Parse Error: {message}\")\n"
      ],
      "metadata": {
        "id": "_UZHVWZCUMbw"
      },
      "execution_count": null,
      "outputs": []
    },
    {
      "cell_type": "code",
      "source": [
        "#Tokenizer function to convert code into tokens\n",
        "def tokenize(code):\n",
        "    token_specification = [\n",
        "        ('SERVICE_NAME', r'[a-zA-Z_][a-zA-Z0-9_]*'),\n",
        "        ('STRING', r'\"(?:[^\"\\\\]|\\\\.)*\"'),\n",
        "        ('EQUALS', r'='),\n",
        "        ('SEMICOLON', r';'),\n",
        "        ('OPEN_BRACE', r'{'),\n",
        "        ('CLOSE_BRACE', r'}'),\n",
        "        ('API_KEY', r'api_key'),\n",
        "    ]\n",
        "\n",
        "    tok_regex = '|'.join('(?P<%s>%s)' % pair for pair in token_specification)\n",
        "    tokens = []\n",
        "\n",
        "    for match in re.finditer(tok_regex, code):\n",
        "        for name, value in match.groupdict().items():\n",
        "            if value:\n",
        "                position = match.start(name) + 1\n",
        "                tokens.append(Token(name, value, position))\n",
        "\n",
        "    return tokens\n"
      ],
      "metadata": {
        "id": "26kJPB_DUZnS"
      },
      "execution_count": null,
      "outputs": []
    },
    {
      "cell_type": "code",
      "source": [
        "def is_valid_code(code):\n",
        "    return all(char.isascii() for char in code)\n",
        "code_input = input(\"Enter your configuration code:\\n\")\n",
        "\n",
        "if not is_valid_code(code_input):\n",
        "    print(\"Error: Invalid characters in the configuration code.\")\n",
        "    sys.exit(1)\n",
        "\n",
        "tokens = tokenize(code_input)\n",
        "\n",
        "print(\"\\nTokens:\")\n",
        "for token in tokens:\n",
        "    print(f\"{token.type}: {token.value}\")\n"
      ],
      "metadata": {
        "colab": {
          "base_uri": "https://localhost:8080/"
        },
        "id": "Px79YO8JavJV",
        "outputId": "aa7bbd12-dafe-467c-c312-b07d44b13924"
      },
      "execution_count": null,
      "outputs": [
        {
          "output_type": "stream",
          "name": "stdout",
          "text": [
            "Enter your configuration code:\n",
            "something\n",
            "\n",
            "Tokens:\n",
            "SERVICE_NAME: something\n"
          ]
        }
      ]
    },
    {
      "cell_type": "code",
      "source": [
        "#parser\n",
        "parser = Parser(tokens)\n",
        "\n",
        "configurations = parser.parse()\n",
        "\n",
        "print(\"\\nParsed Configurations:\")\n",
        "for config in configurations:\n",
        "    print(f\"Service: {config.service_name}\")\n",
        "    for api_key_statement in config.api_keys:\n",
        "        print(f\"  API Key: {api_key_statement.key}, Value: {api_key_statement.value}\")\n",
        "ast = []\n",
        "for config in configurations:\n",
        "    service_name = config.service_name\n",
        "    api_keys = []\n",
        "    for api_key_statement in config.api_keys:\n",
        "        key = api_key_statement.key\n",
        "        value = api_key_statement.value\n",
        "        api_keys.append(ApiKeyNode(key, value, api_key_statement.position))  # Append to api_keys list\n",
        "    ast.append(ServiceNode(service_name, api_keys, config.position))\n",
        "\n",
        "print(\"\\nAST Structure:\")\n",
        "for node in ast:\n",
        "    if isinstance(node, ServiceNode):\n",
        "        print(f'Service: {node.service_name}')\n",
        "        for api_key in node.api_keys:\n",
        "            print(f'  Key: {api_key.key}, Value: {api_key.value}')\n",
        "\n",
        "sys.exit(0)\n",
        "\n"
      ],
      "metadata": {
        "id": "SwDq4Kg0bF5z"
      },
      "execution_count": null,
      "outputs": []
    }
  ]
}